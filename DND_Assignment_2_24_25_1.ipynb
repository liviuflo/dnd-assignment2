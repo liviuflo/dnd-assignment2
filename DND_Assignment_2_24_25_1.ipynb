{
  "cells": [
    {
      "cell_type": "markdown",
      "metadata": {
        "id": "l6wXreGJg2lo"
      },
      "source": [
        "# Assignment 2 - Image Captioning\n",
        "\n",
        "This notebook contains the required task for the second assignment of the Deep Network Development course. Read the task description and fill in the empty code cells. Each section represents an implementation stage of image captioning : -from loading and inspecting the dataset; -to implementing, training and evaluating an Encoder-Decoder + Attention based architecture. The sections are there to guide you but you do not have to follow them strictly.\n",
        "\n",
        "Copy this notebook to your drive (File -> Save a copy in Drive), edit it, and upload the final .ipynb file to [Canvas](https://canvas.elte.hu). If you are using this in Google Colab notebook, save it as .ipynb and upload it, or share the public link. If you have your own machine with Jupyter installed, you can work there as well, as long as you save and upload the .ipynb file.\n",
        "\n",
        "## General Rules\n",
        "\n",
        "Please check all the requirements listed on Canvas, but here are some general rules:\n",
        "\n",
        "- From the provided Flickr8k dataset, split it into train, val and test sets;\n",
        "- Use the train set to train an Image Captioning model, the val set for validation of the model and hyper-parameters, and the test set to evaluate the final trained model;\n",
        "- For this assignment, we will give importance to the performance of your model, meaning that, we will evaluate if your model is overfitted or underfitted. For that, please include visualizations (print and plot) loss values for the split sets, as well as the metric results;\n",
        "- For the metric, while we do not require high performance, we still expect better than random guessing results;\n",
        "- For the comparison, you are free to choose any pre-trained model;\n",
        "- Copying others' code will make you fail the assignment automatically, resulting in a 0;\n",
        "- Not submitting anything results in a 0;\n",
        "- Submitting something, as long as it is not an empty notebook, might result in a 1;\n",
        "- **Deadline is November 29th 11:59 PM** (strict, no late submission);\n",
        "- Feel free to add more code cells as needed. But don't put code into external Python files;\n",
        "- Please add your name, **Neptun ID**, and task details below.\n",
        "\n",
        "**Name: Liviu-Daniel Florescu**  \n",
        "**Neptun ID: F06DLV**\n",
        "\n",
        "## Task description\n",
        "\n",
        "Your task is to train your own custom image captioning model and compare its performance with an existing (pre-trained) model. For that, first you need to load the provided Flickr8k dataset, split into train, val and test sets. Then, create your own architecture, which should follow an Encoder-Decoder + Attention sturcture. You can use pre-trained backbones (i.e. ResNet) for the encoder, but they have to be fine-tuned. We expect you to use an Attention layer, in order to visualize how the network learned (see more details on section 2 of the notebook).\n",
        "There is no expected high performance, but **your metrics should show results better than random guessing and your loss has to decrease throughout the epochs. Please use BLEU score as the metric**. We expect you to **show visualizations (prints and plots)** of the **metrics, losses, and predictions**. Use techniques to avoid overfitting such as Early stopping, and more, and save the best model while training your architecture.\n",
        "\n",
        "**In order to get your grade for the assignment, you must defend it by answering questions during the designated practice time.**\n",
        "\n",
        "## Guidelines\n",
        "\n",
        "Please carefully read each cell of the notebook, as they contain guidelines to help you complete the assignments. While you don't have to follow them strictly, we believe that they provide enough help.\n"
      ]
    },
    {
      "cell_type": "markdown",
      "metadata": {
        "id": "C2MZxylcxCF6"
      },
      "source": [
        "# 0. Necessary Imports\n",
        "\n",
        "Import all the necessary packages for this assignment. **ONLY PYTORCH MODELS ARE ACCEPTED!**\n"
      ]
    },
    {
      "cell_type": "code",
      "execution_count": 1,
      "metadata": {
        "id": "k-FHRVLAxBwR"
      },
      "outputs": [],
      "source": [
        "# ADD YOUR CODE HERE\n",
        "import torch\n",
        "import torchvision.transforms.v2 as transforms\n",
        "import torch.nn as nn\n",
        "\n",
        "import torchtext\n",
        "from torch.utils.data import Dataset, DataLoader"
      ]
    },
    {
      "cell_type": "markdown",
      "metadata": {
        "id": "9rFTekjbxFAz"
      },
      "source": [
        "# 1. DATASET\n",
        "\n",
        "For this assignment you will be using the [Flickr8k](https://www.kaggle.com/datasets/adityajn105/flickr8k) dataset, which contains captions/descriptions of different images.\n"
      ]
    },
    {
      "cell_type": "markdown",
      "metadata": {
        "id": "yl_BOYfrvHQ7"
      },
      "source": [
        "### 1.1. Download dataset\n",
        "\n",
        "The best way to download this dataset is through Kaggle.\n",
        "First create a token, download it and upload it here. Follow these steps: https://www.kaggle.com/discussions/general/74235\n"
      ]
    },
    {
      "cell_type": "markdown",
      "metadata": {
        "id": "Z5FNJamqv_d9"
      },
      "source": [
        "### 1.2. Load dataset\n",
        "\n",
        "In order to load the dataset, you need to create a pytorch Dataset class.\n",
        "The class should return images and captions. Remember that the captions should be returned as tokens. Do not forget to include the SOS:start of sentence, EOS:end of sentence and UNK:unknown tokens. You may want to build a vocabulary class in order to save all the words in your dataset, because your model can only predict words in your vocabulary. You do not have to save every word in your vocabulary, it is common practice to save only those words that appear multiple times in your whole dataset. For example, save only words that appear at least 5 times in your whole dataset.\n"
      ]
    },
    {
      "cell_type": "code",
      "execution_count": 2,
      "metadata": {
        "id": "vB7IVjyUUngx"
      },
      "outputs": [
        {
          "name": "stdout",
          "output_type": "stream",
          "text": [
            "Raw token count: 476665\n",
            "Created vocabulary with 3005 tokens.\n"
          ]
        }
      ],
      "source": [
        "from collections import Counter, OrderedDict\n",
        "import csv\n",
        "import os\n",
        "from typing import List\n",
        "from torch.utils.data import random_split\n",
        "\n",
        "from matplotlib import pyplot as plt\n",
        "\n",
        "IMAGES_DIR = \"dataset/Images\"\n",
        "CAPTIONS_FILE_PATH = \"dataset/captions.txt\"\n",
        "\n",
        "PAD = \"<pad>\"\n",
        "UNK = \"<unk>\"\n",
        "SOS = \"<sos>\"\n",
        "EOS = \"<eos>\"\n",
        "VOCAB_SPECIALS = [PAD, UNK, SOS, EOS]\n",
        "\n",
        "\n",
        "def read_captions(captions_path) -> dict:\n",
        "    img_name_to_captions = dict()\n",
        "\n",
        "    with open(captions_path, \"r\") as f:\n",
        "        reader = csv.reader(f)\n",
        "        next(reader)  # skip header\n",
        "\n",
        "        for row in reader:\n",
        "            img_name, caption = row\n",
        "            caption = caption.lower()\n",
        "\n",
        "            img_name_to_captions.setdefault(img_name, [])\n",
        "            img_name_to_captions[img_name].append(caption)\n",
        "\n",
        "    return img_name_to_captions\n",
        "\n",
        "\n",
        "def create_vocabulary(captions, min_freq) -> torchtext.vocab.Vocab:\n",
        "    raw_tokens = [t for caption in captions for t in caption.split(\" \")]\n",
        "    print(\"Raw token count:\", len(raw_tokens))\n",
        "\n",
        "    counter = Counter(raw_tokens)\n",
        "    sorted_by_freq_tuples = sorted(counter.items(), key=lambda x: x[1], reverse=True)\n",
        "    vocab = torchtext.vocab.vocab(\n",
        "        OrderedDict(sorted_by_freq_tuples), min_freq=min_freq, specials=VOCAB_SPECIALS\n",
        "    )\n",
        "    vocab.set_default_index(vocab[UNK])\n",
        "\n",
        "    print(f\"Created vocabulary with {len(vocab.get_itos())} tokens.\")\n",
        "\n",
        "    return vocab\n",
        "\n",
        "\n",
        "def tokenize_captions(vocab, captions):\n",
        "    def tokenize_caption(caption):\n",
        "        tokens = [vocab[token] for token in caption.split(\" \")]\n",
        "        return [vocab[SOS]] + tokens + [vocab[EOS]]\n",
        "\n",
        "    return [tokenize_caption(caption) for caption in captions]\n",
        "\n",
        "\n",
        "def filter_img_caption_dict(img_caption_dict, wanted_images):\n",
        "    return {img: list(img_caption_dict[img]) for img in wanted_images}\n",
        "\n",
        "\n",
        "img_name_to_captions = read_captions(CAPTIONS_FILE_PATH)\n",
        "all_captions = [\n",
        "    caption\n",
        "    for img_captions in img_name_to_captions.values()\n",
        "    for caption in img_captions\n",
        "]\n",
        "all_images = list(img_name_to_captions.keys())\n",
        "VOCAB = create_vocabulary(all_captions, min_freq=5)\n",
        "\n",
        "for img, captions in img_name_to_captions.items():\n",
        "    img_name_to_captions[img] = tokenize_captions(VOCAB, captions)\n",
        "\n",
        "\n",
        "# Fix generator for reproducible results\n",
        "img_splits = random_split(all_images, [0.6, 0.2, 0.2], torch.Generator().manual_seed(0))\n",
        "_train_data = filter_img_caption_dict(img_name_to_captions, img_splits[0])\n",
        "_val_data = filter_img_caption_dict(img_name_to_captions, img_splits[1])\n",
        "_test_data = filter_img_caption_dict(img_name_to_captions, img_splits[2])"
      ]
    },
    {
      "cell_type": "markdown",
      "metadata": {
        "id": "1voPNB1t93SH"
      },
      "source": [
        "Split your dataset into train, val and test sets\n"
      ]
    },
    {
      "cell_type": "code",
      "execution_count": 3,
      "metadata": {
        "id": "MXcLcnND97gI"
      },
      "outputs": [
        {
          "name": "stdout",
          "output_type": "stream",
          "text": [
            "Created train dataset with 4855 elements.\n",
            "Created val dataset with 1618 elements.\n",
            "Created test dataset with 1618 elements.\n"
          ]
        }
      ],
      "source": [
        "import random\n",
        "\n",
        "\n",
        "class FlickrSubset(Dataset):\n",
        "    def __init__(self, data: dict, vocab, img_dir, transform=None, split=\"train\"):\n",
        "        self.data = data\n",
        "        self.img_names = list(self.data.keys())\n",
        "        self.vocab = vocab\n",
        "        self.img_dir = img_dir\n",
        "        self.transform = transform\n",
        "        self.split = split\n",
        "\n",
        "        print(f\"Created {self.split} dataset with {len(self)} elements.\")\n",
        "\n",
        "    def __len__(self):\n",
        "        return len(self.img_names)\n",
        "\n",
        "    def __getitem__(self, index):\n",
        "        img_name = self.img_names[index]\n",
        "        all_captions = self.data[img_name]\n",
        "        caption = random.sample(all_captions, k=1)[0]\n",
        "\n",
        "        img_path = os.path.join(self.img_dir, img_name)\n",
        "        image = plt.imread(img_path)\n",
        "        if self.transform:\n",
        "            image = self.transform(image)\n",
        "\n",
        "        return (image, torch.tensor(caption, dtype=torch.int32), all_captions)\n",
        "\n",
        "\n",
        "IMG_SIZE = (224, 224)\n",
        "NORM_MEAN = [0.485, 0.456, 0.406]\n",
        "NORM_STD = [0.229, 0.224, 0.225]\n",
        "\n",
        "common_transforms = [\n",
        "    transforms.ToImage(),\n",
        "    transforms.ToDtype(torch.float32, scale=True),\n",
        "    transforms.Resize(IMG_SIZE),\n",
        "    transforms.Normalize(NORM_MEAN, NORM_STD),\n",
        "]\n",
        "train_transforms = list(common_transforms)\n",
        "train_transforms.insert(\n",
        "    2, transforms.ColorJitter(brightness=0.5, contrast=0.5, saturation=0.5)\n",
        ")\n",
        "\n",
        "train_transform = transforms.Compose(train_transforms)\n",
        "val_test_transform = transforms.Compose(common_transforms)\n",
        "\n",
        "\n",
        "train_dataset = FlickrSubset(\n",
        "    _train_data, VOCAB, IMAGES_DIR, train_transform, split=\"train\"\n",
        ")\n",
        "val_dataset = FlickrSubset(\n",
        "    _val_data, VOCAB, IMAGES_DIR, val_test_transform, split=\"val\"\n",
        ")\n",
        "test_dataset = FlickrSubset(\n",
        "    _test_data, VOCAB, IMAGES_DIR, val_test_transform, split=\"test\"\n",
        ")"
      ]
    },
    {
      "cell_type": "code",
      "execution_count": 4,
      "metadata": {},
      "outputs": [
        {
          "name": "stderr",
          "output_type": "stream",
          "text": [
            "/mnt/128EB2C18EB29CA3/uni/master/ifros/year2/sem1/deep_networks/labs/venv/lib/python3.11/site-packages/torchvision/transforms/v2/functional/_type_conversion.py:14: UserWarning: The given NumPy array is not writable, and PyTorch does not support non-writable tensors. This means writing to this tensor will result in undefined behavior. You may want to copy the array to protect its data or make it writable before converting it to a tensor. This type of warning will be suppressed for the rest of this program. (Triggered internally at ../torch/csrc/utils/tensor_numpy.cpp:206.)\n",
            "  output = torch.from_numpy(inpt).permute((2, 0, 1)).contiguous()\n"
          ]
        },
        {
          "data": {
            "image/png": "[encoded data removed]",
            "text/plain": [
              "<Figure size 1200x480 with 4 Axes>"
            ]
          },
          "metadata": {},
          "output_type": "display_data"
        }
      ],
      "source": [
        "import random\n",
        "\n",
        "import numpy as np\n",
        "\n",
        "from textwrap import wrap\n",
        "\n",
        "random.seed(0)\n",
        "\n",
        "\n",
        "def denormalize(tensor, mean=NORM_MEAN, std=NORM_STD):\n",
        "    \"\"\"\n",
        "    Denormalizes a tensor normalized by transforms.Normalize.\n",
        "\n",
        "    Args:\n",
        "        tensor (torch.Tensor): Normalized tensor.\n",
        "        mean (list or tuple): Mean values used for normalization (one for each channel).\n",
        "        std (list or tuple): Std values used for normalization (one for each channel).\n",
        "\n",
        "    Returns:\n",
        "        torch.Tensor: Denormalized tensor.\n",
        "    \"\"\"\n",
        "    # Check if mean and std are single values, in case of grayscale images\n",
        "    if not isinstance(mean, (list, tuple)):\n",
        "        mean = [mean]\n",
        "    if not isinstance(std, (list, tuple)):\n",
        "        std = [std]\n",
        "\n",
        "    mean = torch.tensor(mean).view(-1, 1, 1)\n",
        "    std = torch.tensor(std).view(-1, 1, 1)\n",
        "\n",
        "    return tensor * std + mean\n",
        "\n",
        "\n",
        "def decode_caption(caption: torch.Tensor, vocab: torchtext.vocab.Vocab):\n",
        "    words = [vocab.get_itos()[token] for token in caption.tolist()]\n",
        "    return \" \".join(words)\n",
        "\n",
        "\n",
        "def visualize_dataset(ds: Dataset, wanted_images=4):\n",
        "    f, axs = plt.subplots(1, wanted_images)\n",
        "    f.set_figwidth(3 * wanted_images)\n",
        "    sample_ids = random.sample(list(range(len(ds))), k=wanted_images)\n",
        "    for i, sample_id in enumerate(sample_ids):\n",
        "        image_tensor, caption, _ = ds[sample_id]\n",
        "        image = denormalize(image_tensor).numpy()\n",
        "        image = np.transpose(image, (1, 2, 0))\n",
        "        image[image > 1] = 1\n",
        "        text = decode_caption(caption, ds.vocab)\n",
        "        wrapped_text = \"\\n\".join(wrap(text, width=35))\n",
        "\n",
        "        axs[i].imshow(image)\n",
        "        axs[i].axis(\"off\")\n",
        "        axs[i].set_title(wrapped_text, fontsize=9)\n",
        "\n",
        "\n",
        "visualize_dataset(train_dataset)"
      ]
    },
    {
      "cell_type": "markdown",
      "metadata": {
        "id": "XN6yFFLI9WQg"
      },
      "source": [
        "Create a dataloader, in order to load the examples in batches. Remember that, a batch has different examples, and each example (caption) may have different sizes. Therefore, consider padding techniques for the captions. For the image, use transforms in the previous step, to ensure same format and size.\n"
      ]
    },
    {
      "cell_type": "code",
      "execution_count": 5,
      "metadata": {
        "colab": {
          "base_uri": "https://localhost:8080/",
          "height": 1000
        },
        "id": "xHXaqwbhxtCM",
        "outputId": "2d4f8f00-8583-49cf-c0c5-775363168e65"
      },
      "outputs": [],
      "source": [
        "def pad_caption(caption: torch.Tensor, target_length):\n",
        "    padding_tensor = torch.tensor([VOCAB[PAD]] * (target_length - len(caption)))\n",
        "    return torch.concat([caption, padding_tensor], dim=0)\n",
        "\n",
        "\n",
        "def pad_caption_batch(captions):\n",
        "    max_caption_length = max(map(len, captions))\n",
        "    padded_captions = [pad_caption(c, max_caption_length) for c in captions]\n",
        "    return torch.stack(padded_captions).int()\n",
        "\n",
        "\n",
        "def collate_fn(batch):\n",
        "    \"\"\"Custom collation function to pad captions in a single batch so that they have the same length.\"\"\"\n",
        "\n",
        "    images = torch.stack([pair[0] for pair in batch])\n",
        "    raw_captions = [pair[1] for pair in batch]\n",
        "    all_captions = [pair[2] for pair in batch]\n",
        "\n",
        "    return (images, pad_caption_batch(raw_captions), all_captions)\n",
        "\n",
        "\n",
        "common_dataloader_kwargs = {\n",
        "    \"batch_size\": 16,\n",
        "    \"num_workers\": 4,\n",
        "    \"pin_memory\": True,\n",
        "    \"collate_fn\": collate_fn,\n",
        "}\n",
        "\n",
        "\n",
        "train_loader = DataLoader(train_dataset, shuffle=True, **common_dataloader_kwargs)\n",
        "val_loader = DataLoader(val_dataset, shuffle=False, **common_dataloader_kwargs)\n",
        "test_loader = DataLoader(test_dataset, shuffle=False, **common_dataloader_kwargs)"
      ]
    },
    {
      "cell_type": "markdown",
      "metadata": {
        "id": "qW-8iolJbQz0"
      },
      "source": [
        "# 2. MODEL\n",
        "\n",
        "For this assignment, you are required to create your own custom image captioning model and compare its performance with an existing pre-trained model.\n"
      ]
    },
    {
      "cell_type": "code",
      "execution_count": 6,
      "metadata": {
        "id": "ysoQnGBPbSEb"
      },
      "outputs": [
        {
          "data": {
            "text/plain": [
              "device(type='cuda', index=0)"
            ]
          },
          "execution_count": 6,
          "metadata": {},
          "output_type": "execute_result"
        }
      ],
      "source": [
        "# Make sure to use GPU\n",
        "device = torch.device(\"cuda:0\" if torch.cuda.is_available() else \"cpu\")\n",
        "device"
      ]
    },
    {
      "cell_type": "markdown",
      "metadata": {
        "id": "Dhp_pUt2iM-O"
      },
      "source": [
        "### 2.1. Custom Image Captioning model\n",
        "\n",
        "Create an Encoder-Attention-Decoder architecture with the following details:\n",
        "\n",
        "- the encoder should process the images, thus you can create a Convolutional based architecture or use already pre-trained models like ResNet. However, you must fine-tune the pretrained model. The encoder is responisble for extracting image features;\n",
        "- the attention layer should be between the encoder and decoder. It uses the image features from the encoder in order to provide context (attention scores) to the decoder hidden layers. For simplicity use Linear layers as the attention architecture;\n",
        "- the decoder should be a sequence based model (i.e. LSTM) in order to process and generate captions.\n",
        "\n",
        "Extra:\n",
        "\n",
        "- Extra points (counting toward the final grade) will be given to any student who implements either a Vision-based Transformer architecture or a Transformer only decoder for the decoder part.\n"
      ]
    },
    {
      "cell_type": "markdown",
      "metadata": {
        "id": "eftB2vuRTaiC"
      },
      "source": [
        "#### Reference\n",
        "\n",
        "Here is an example of something similar to what we want to create:\n",
        "<img src=\"https://drive.google.com/thumbnail?id=1wdddaLit7iEyCcVy5bS505NiYzL6c-4x&sz=w1000\">\n"
      ]
    },
    {
      "cell_type": "code",
      "execution_count": 7,
      "metadata": {
        "id": "FApfc3Fab-o-"
      },
      "outputs": [],
      "source": [
        "from torchvision import models\n",
        "\n",
        "# Inspired by\n",
        "# https://github.com/mnmjh1215/show-attend-and-tell-pytorch/blob/master/model.py\n",
        "# https://github.com/sgrvinod/a-PyTorch-Tutorial-to-Image-Captioning/blob/master/models.py\n",
        "\n",
        "ENC_IMAGE_SIZE = (14, 14)\n",
        "\n",
        "\n",
        "class Encoder(nn.Module):\n",
        "    def __init__(self):\n",
        "        super(Encoder, self).__init__()\n",
        "        resnet = models.resnet50(weights=models.ResNet50_Weights.IMAGENET1K_V2)\n",
        "\n",
        "        wanted_layers = list(resnet.children())[:-2]\n",
        "        self.backbone = nn.Sequential(*wanted_layers)\n",
        "\n",
        "        self.adaptive_pool = nn.AdaptiveAvgPool2d(ENC_IMAGE_SIZE)\n",
        "\n",
        "        mock_input = torch.randn(1, 3, *IMG_SIZE)\n",
        "        with torch.no_grad():\n",
        "            mock_output = self.forward(mock_input)\n",
        "            # save the feature dimension\n",
        "            self.dim = mock_output.shape[-1]\n",
        "\n",
        "    def forward(self, images):\n",
        "        x = self.backbone(images)\n",
        "\n",
        "        # adaptive pooling to obtain features of desired size\n",
        "        x = self.adaptive_pool(x)\n",
        "\n",
        "        x = x.permute(0, 2, 3, 1)  # place encoding dimension at the end\n",
        "\n",
        "        batch_size, _, _, enc_dim = x.shape\n",
        "\n",
        "        # flatten along the feature count dimensions (image shape)\n",
        "        x = x.view(batch_size, -1, enc_dim)\n",
        "\n",
        "        return x\n",
        "\n",
        "\n",
        "class Attention(nn.Module):\n",
        "    def __init__(self, encoder_dim, decoder_dim, attention_dim):  # generous hint\n",
        "        super(Attention, self).__init__()\n",
        "        self.encoder_att = nn.Linear(encoder_dim, attention_dim)\n",
        "        self.decoder_att = nn.Linear(decoder_dim, attention_dim)\n",
        "\n",
        "        # keep one value (score) for each feature\n",
        "        self.attention = nn.Linear(attention_dim, 1)\n",
        "\n",
        "        self.relu = nn.ReLU()\n",
        "        self.softmax = nn.Softmax(dim=1)\n",
        "\n",
        "    def forward(self, features, hidden_state):\n",
        "        encoder_att = self.encoder_att(features)  # (batch, features, att)\n",
        "        decoder_att = self.decoder_att(hidden_state).unsqueeze(1)  # (batch, 1, att)\n",
        "\n",
        "        summed_att = encoder_att + decoder_att\n",
        "\n",
        "        attention = self.attention(self.relu(summed_att))  # (batch, features, 1)\n",
        "\n",
        "        # dim 2 is 1, so it can be removed\n",
        "        attention = attention.squeeze(2)  # (batch, features)\n",
        "\n",
        "        # compute softmax scores\n",
        "        weights = self.softmax(attention)  # (batch, features)\n",
        "\n",
        "        # perform weighted sum on full-dimension features\n",
        "        # (batch, encoder dim)\n",
        "        context = (features * weights.unsqueeze(2)).sum(dim=1)\n",
        "\n",
        "        return context, weights\n",
        "\n",
        "\n",
        "class Decoder(nn.Module):\n",
        "    def __init__(\n",
        "        self, embed_size, vocab_size, attention_dim, encoder_dim, decoder_dim, dropout\n",
        "    ):\n",
        "        super(Decoder, self).__init__()\n",
        "\n",
        "        self.vocab_size = vocab_size\n",
        "\n",
        "        self.attention = Attention(encoder_dim, decoder_dim, attention_dim)\n",
        "\n",
        "        # TODO try using padding_idx\n",
        "        self.emb = nn.Embedding(vocab_size, embed_size)\n",
        "\n",
        "        self.init_h = nn.Linear(encoder_dim, decoder_dim)\n",
        "        self.init_c = nn.Linear(encoder_dim, decoder_dim)\n",
        "\n",
        "        self.lstm_cell = nn.LSTMCell(embed_size + encoder_dim, decoder_dim)\n",
        "\n",
        "        self.fc = nn.Linear(decoder_dim, vocab_size)\n",
        "        self.dropout = nn.Dropout(p=dropout)\n",
        "\n",
        "    def train(self, mode=True):\n",
        "        super().train(mode)\n",
        "        self.attention.train(mode)\n",
        "\n",
        "    def init_hidden_state(self, features):\n",
        "        \"\"\"Initialise hidden and cell states for LSTM.\"\"\"\n",
        "        mean_features = features.mean(dim=1)\n",
        "\n",
        "        h = self.init_h(mean_features)\n",
        "        c = self.init_c(mean_features)\n",
        "        return h, c\n",
        "\n",
        "    def forward(self, features: torch.Tensor, captions: torch.Tensor):\n",
        "        \"\"\"\n",
        "        Forward propagation in Teacher-forcing mode using:\n",
        "        - `features` (batch, features, dimensions) extracted by the encoder\n",
        "        - `captions` (batch, caption length) ground truth\n",
        "        \"\"\"\n",
        "\n",
        "        batch_size, feature_count, feature_dim = features.shape\n",
        "\n",
        "        h, c = self.init_hidden_state(features)\n",
        "\n",
        "        embeddings = self.emb(captions)  # (batch, caption length, embedding)\n",
        "\n",
        "        target_length = captions.shape[1]\n",
        "\n",
        "        # For each image, for each slot, a probability for each word in the vocab\n",
        "        predictions = torch.zeros(batch_size, target_length, self.vocab_size).to(device)\n",
        "\n",
        "        # For each image, for each slot, a weight for each feature in the encoding\n",
        "        alphas = torch.zeros(batch_size, target_length, feature_count).to(device)\n",
        "\n",
        "        # For each slot\n",
        "        for t in range(target_length):\n",
        "            context, weights = self.attention(features, h)\n",
        "\n",
        "            # TODO try gating\n",
        "\n",
        "            lstm_input = torch.cat([embeddings[:, t, :], context], dim=1)\n",
        "            h, c = self.lstm_cell(lstm_input, (h, c))\n",
        "\n",
        "            preds = self.fc(self.dropout(h))\n",
        "            predictions[:, t, :] = preds\n",
        "\n",
        "            alphas[:, t, :] = weights\n",
        "\n",
        "        return predictions, alphas"
      ]
    },
    {
      "cell_type": "markdown",
      "metadata": {
        "id": "s21b3OKqMqUv"
      },
      "source": [
        "Combine the encoder - attention - decoder\n"
      ]
    },
    {
      "cell_type": "code",
      "execution_count": 8,
      "metadata": {
        "id": "5_POIjGsw8us"
      },
      "outputs": [],
      "source": [
        "import shutil\n",
        "import time\n",
        "from tqdm import tqdm\n",
        "\n",
        "s = \"======\"\n",
        "WEIGHTS_ROOT_PATH = \"weights\"\n",
        "os.makedirs(WEIGHTS_ROOT_PATH, exist_ok=True)\n",
        "\n",
        "PLOTS_ROOT_PATH = \"plots\"\n",
        "\n",
        "\n",
        "class ImageCaptioningModel(nn.Module):\n",
        "    init_param_names = [\n",
        "        \"emb_size\",\n",
        "        \"vocab_size\",\n",
        "        \"att_dim\",\n",
        "        \"decoder_dim\",\n",
        "        \"dropout\",\n",
        "        \"id\",\n",
        "        \"trained_epochs\",\n",
        "    ]\n",
        "\n",
        "    def __init__(\n",
        "        self,\n",
        "        emb_size,\n",
        "        vocab_size,\n",
        "        att_dim,\n",
        "        decoder_dim,\n",
        "        dropout,\n",
        "        id: str = None,\n",
        "        trained_epochs: int = 0,\n",
        "    ):\n",
        "        super(ImageCaptioningModel, self).__init__()\n",
        "\n",
        "        self.emb_size = emb_size\n",
        "        self.vocab_size = vocab_size\n",
        "        self.att_dim = att_dim\n",
        "        self.decoder_dim = decoder_dim\n",
        "        self.dropout = dropout\n",
        "        self.id = id if id is not None else str(int(time.time()))\n",
        "        self.trained_epochs = trained_epochs\n",
        "\n",
        "        self.folder = os.path.join(WEIGHTS_ROOT_PATH, self.id)\n",
        "        self.trained_epochs = trained_epochs\n",
        "\n",
        "        self.encoder = Encoder()\n",
        "        self.encoder_dim = self.encoder.dim\n",
        "\n",
        "        self.decoder = Decoder(\n",
        "            emb_size, vocab_size, att_dim, self.encoder_dim, decoder_dim, dropout\n",
        "        )\n",
        "\n",
        "    def record_epoch(self):\n",
        "        self.trained_epochs += 1\n",
        "\n",
        "    def get_state(self):\n",
        "        param_dict = {\n",
        "            p: getattr(self, p) for p in ImageCaptioningModel.init_param_names\n",
        "        }\n",
        "        return {\n",
        "            **param_dict,\n",
        "            \"state_dict\": self.state_dict(),\n",
        "        }\n",
        "\n",
        "    @classmethod\n",
        "    def init_from_file(cls, path: str):\n",
        "        state = torch.load(path)\n",
        "        kwargs = {p: state[p] for p in cls.init_param_names}\n",
        "        m = ImageCaptioningModel(**kwargs)\n",
        "        m.load_state_dict(state[\"state_dict\"])\n",
        "        return m\n",
        "\n",
        "    def save_checkpoint(self, delete_prev=False):\n",
        "        if delete_prev and os.path.exists(self.folder):\n",
        "            shutil.rmtree(self.folder)\n",
        "\n",
        "        os.makedirs(self.folder, exist_ok=True)\n",
        "\n",
        "        path = os.path.join(self.folder, f\"{self.trained_epochs:>03}.pt\")\n",
        "        state = self.get_state()\n",
        "        torch.save(state, path)\n",
        "\n",
        "        print(f\"Saved model weights to {path}\")\n",
        "\n",
        "    def train(self, mode=True):\n",
        "        self.encoder.train(mode)\n",
        "        self.decoder.train(mode)\n",
        "\n",
        "    def forward_with_gt(self, images, captions):\n",
        "        \"\"\"Perform a forward pass on the given images and captions, when ground truth captions are given.\"\"\"\n",
        "        images = images.to(device)\n",
        "        captions = captions.to(device)\n",
        "\n",
        "        features = self.encoder(images)\n",
        "        predictions, alphas = self.decoder(features, captions)\n",
        "\n",
        "        return predictions, alphas"
      ]
    },
    {
      "cell_type": "markdown",
      "metadata": {
        "id": "wXRkD_5VNIxW"
      },
      "source": [
        "### 2.2. Training custom model\n"
      ]
    },
    {
      "cell_type": "markdown",
      "metadata": {
        "id": "Yl9ubUb-M1Dm"
      },
      "source": [
        "### Important: we recommend saving the model during training, so that you can resume training later in case of any Google Colab issue or limitation\n"
      ]
    },
    {
      "cell_type": "markdown",
      "metadata": {
        "id": "BCfTLCPfPCcG"
      },
      "source": [
        "Pay attention to your choices. Define an optimizer, a loss function, the number of epochs and regularization techniques.\n",
        "Be aware of overfitting and underfitting. Make sure the loss is decreasing over the epochs. Save the losses so that they can be visualized.\n"
      ]
    },
    {
      "cell_type": "code",
      "execution_count": 9,
      "metadata": {},
      "outputs": [
        {
          "name": "stdout",
          "output_type": "stream",
          "text": [
            "\n",
            "====== Epoch 1/200 ======\n"
          ]
        },
        {
          "name": "stderr",
          "output_type": "stream",
          "text": [
            "100%|██████████| 304/304 [03:38<00:00,  1.39it/s]"
          ]
        },
        {
          "name": "stdout",
          "output_type": "stream",
          "text": [
            "LR: [0.001]\n",
            "Epoch duration 219.0s\n",
            "Loss 0.9343 bleu1 0.8717 bleu2 0.8020 bleu3 0.7328 \n"
          ]
        },
        {
          "name": "stderr",
          "output_type": "stream",
          "text": [
            "\n"
          ]
        },
        {
          "name": "stdout",
          "output_type": "stream",
          "text": [
            "Loss 0.2989 bleu1 0.9662 bleu2 0.9448 bleu3 0.9227 \n",
            "Saved model weights to weights/1730730651/001.pt\n",
            "\n",
            "====== Epoch 2/200 ======\n"
          ]
        },
        {
          "name": "stderr",
          "output_type": "stream",
          "text": [
            "100%|██████████| 304/304 [03:36<00:00,  1.41it/s]"
          ]
        },
        {
          "name": "stdout",
          "output_type": "stream",
          "text": [
            "LR: [0.00096]\n",
            "Epoch duration 216.3s\n",
            "Loss 0.1955 bleu1 0.9803 bleu2 0.9674 bleu3 0.9539 \n"
          ]
        },
        {
          "name": "stderr",
          "output_type": "stream",
          "text": [
            "\n"
          ]
        },
        {
          "name": "stdout",
          "output_type": "stream",
          "text": [
            "Loss 0.1413 bleu1 0.9862 bleu2 0.9771 bleu3 0.9675 \n",
            "Saved model weights to weights/1730730651/002.pt\n",
            "\n",
            "====== Epoch 3/200 ======\n"
          ]
        },
        {
          "name": "stderr",
          "output_type": "stream",
          "text": [
            "100%|██████████| 304/304 [03:36<00:00,  1.40it/s]"
          ]
        },
        {
          "name": "stdout",
          "output_type": "stream",
          "text": [
            "LR: [0.0009216]\n",
            "Epoch duration 217.0s\n",
            "Loss 0.0853 bleu1 0.9928 bleu2 0.9880 bleu3 0.9830 \n"
          ]
        },
        {
          "name": "stderr",
          "output_type": "stream",
          "text": [
            "\n"
          ]
        },
        {
          "name": "stdout",
          "output_type": "stream",
          "text": [
            "Loss 0.0803 bleu1 0.9928 bleu2 0.9882 bleu3 0.9833 \n",
            "Saved model weights to weights/1730730651/003.pt\n",
            "\n",
            "====== Epoch 4/200 ======\n"
          ]
        },
        {
          "name": "stderr",
          "output_type": "stream",
          "text": [
            "100%|██████████| 304/304 [03:29<00:00,  1.45it/s]"
          ]
        },
        {
          "name": "stdout",
          "output_type": "stream",
          "text": [
            "LR: [0.0008847359999999999]\n",
            "Epoch duration 209.9s\n",
            "Loss 0.0459 bleu1 0.9967 bleu2 0.9945 bleu3 0.9922 \n"
          ]
        },
        {
          "name": "stderr",
          "output_type": "stream",
          "text": [
            "\n"
          ]
        },
        {
          "name": "stdout",
          "output_type": "stream",
          "text": [
            "Loss 0.0563 bleu1 0.9949 bleu2 0.9917 bleu3 0.9882 \n",
            "Saved model weights to weights/1730730651/004.pt\n",
            "\n",
            "====== Epoch 5/200 ======\n"
          ]
        },
        {
          "name": "stderr",
          "output_type": "stream",
          "text": [
            "100%|██████████| 304/304 [03:17<00:00,  1.54it/s]"
          ]
        },
        {
          "name": "stdout",
          "output_type": "stream",
          "text": [
            "LR: [0.0008493465599999999]\n",
            "Epoch duration 198.0s\n",
            "Loss 0.0267 bleu1 0.9985 bleu2 0.9975 bleu3 0.9965 \n"
          ]
        },
        {
          "name": "stderr",
          "output_type": "stream",
          "text": [
            "\n"
          ]
        },
        {
          "name": "stdout",
          "output_type": "stream",
          "text": [
            "Loss 0.0375 bleu1 0.9965 bleu2 0.9942 bleu3 0.9917 \n",
            "Saved model weights to weights/1730730651/005.pt\n",
            "\n",
            "====== Epoch 6/200 ======\n"
          ]
        },
        {
          "name": "stderr",
          "output_type": "stream",
          "text": [
            "100%|██████████| 304/304 [03:21<00:00,  1.51it/s]"
          ]
        },
        {
          "name": "stdout",
          "output_type": "stream",
          "text": [
            "LR: [0.0008153726975999999]\n",
            "Epoch duration 201.9s\n",
            "Loss 0.0159 bleu1 0.9990 bleu2 0.9983 bleu3 0.9976 \n"
          ]
        },
        {
          "name": "stderr",
          "output_type": "stream",
          "text": [
            "\n"
          ]
        },
        {
          "name": "stdout",
          "output_type": "stream",
          "text": [
            "Loss 0.0300 bleu1 0.9971 bleu2 0.9950 bleu3 0.9929 \n",
            "Saved model weights to weights/1730730651/006.pt\n",
            "\n",
            "====== Epoch 7/200 ======\n"
          ]
        },
        {
          "name": "stderr",
          "output_type": "stream",
          "text": [
            "100%|██████████| 304/304 [03:18<00:00,  1.53it/s]"
          ]
        },
        {
          "name": "stdout",
          "output_type": "stream",
          "text": [
            "LR: [0.0007827577896959998]\n",
            "Epoch duration 198.2s\n",
            "Loss 0.0108 bleu1 0.9994 bleu2 0.9989 bleu3 0.9984 \n"
          ]
        },
        {
          "name": "stderr",
          "output_type": "stream",
          "text": [
            "\n"
          ]
        },
        {
          "name": "stdout",
          "output_type": "stream",
          "text": [
            "Loss 0.0268 bleu1 0.9969 bleu2 0.9949 bleu3 0.9929 \n",
            "Saved model weights to weights/1730730651/007.pt\n",
            "\n",
            "====== Epoch 8/200 ======\n"
          ]
        },
        {
          "name": "stderr",
          "output_type": "stream",
          "text": [
            "100%|██████████| 304/304 [03:17<00:00,  1.54it/s]"
          ]
        },
        {
          "name": "stdout",
          "output_type": "stream",
          "text": [
            "LR: [0.0007514474781081598]\n",
            "Epoch duration 197.6s\n",
            "Loss 0.0075 bleu1 0.9995 bleu2 0.9992 bleu3 0.9988 \n"
          ]
        },
        {
          "name": "stderr",
          "output_type": "stream",
          "text": [
            "\n"
          ]
        },
        {
          "name": "stdout",
          "output_type": "stream",
          "text": [
            "Loss 0.0209 bleu1 0.9978 bleu2 0.9964 bleu3 0.9950 \n",
            "Saved model weights to weights/1730730651/008.pt\n",
            "\n",
            "====== Epoch 9/200 ======\n"
          ]
        },
        {
          "name": "stderr",
          "output_type": "stream",
          "text": [
            "100%|██████████| 304/304 [03:19<00:00,  1.52it/s]"
          ]
        },
        {
          "name": "stdout",
          "output_type": "stream",
          "text": [
            "LR: [0.0007213895789838333]\n",
            "Epoch duration 199.6s\n",
            "Loss 0.0047 bleu1 0.9998 bleu2 0.9996 bleu3 0.9994 \n"
          ]
        },
        {
          "name": "stderr",
          "output_type": "stream",
          "text": [
            "\n"
          ]
        },
        {
          "name": "stdout",
          "output_type": "stream",
          "text": [
            "Loss 0.0176 bleu1 0.9981 bleu2 0.9968 bleu3 0.9955 \n",
            "Saved model weights to weights/1730730651/009.pt\n",
            "\n",
            "====== Epoch 10/200 ======\n"
          ]
        },
        {
          "name": "stderr",
          "output_type": "stream",
          "text": [
            "100%|██████████| 304/304 [03:19<00:00,  1.52it/s]"
          ]
        },
        {
          "name": "stdout",
          "output_type": "stream",
          "text": [
            "LR: [0.00069253399582448]\n",
            "Epoch duration 199.8s\n",
            "Loss 0.0035 bleu1 0.9998 bleu2 0.9997 bleu3 0.9995 \n"
          ]
        },
        {
          "name": "stderr",
          "output_type": "stream",
          "text": [
            "\n"
          ]
        },
        {
          "name": "stdout",
          "output_type": "stream",
          "text": [
            "Loss 0.0167 bleu1 0.9982 bleu2 0.9970 bleu3 0.9958 \n",
            "Saved model weights to weights/1730730651/010.pt\n",
            "\n",
            "====== Epoch 11/200 ======\n"
          ]
        },
        {
          "name": "stderr",
          "output_type": "stream",
          "text": [
            "100%|██████████| 304/304 [03:18<00:00,  1.53it/s]"
          ]
        },
        {
          "name": "stdout",
          "output_type": "stream",
          "text": [
            "LR: [0.0006648326359915007]\n",
            "Epoch duration 198.8s\n",
            "Loss 0.0023 bleu1 0.9999 bleu2 0.9999 bleu3 0.9999 \n"
          ]
        },
        {
          "name": "stderr",
          "output_type": "stream",
          "text": [
            "\n"
          ]
        },
        {
          "name": "stdout",
          "output_type": "stream",
          "text": [
            "Loss 0.0175 bleu1 0.9978 bleu2 0.9963 bleu3 0.9947 \n",
            "\n",
            "====== Epoch 12/200 ======\n"
          ]
        },
        {
          "name": "stderr",
          "output_type": "stream",
          "text": [
            "100%|██████████| 304/304 [03:19<00:00,  1.53it/s]"
          ]
        },
        {
          "name": "stdout",
          "output_type": "stream",
          "text": [
            "LR: [0.0006382393305518406]\n",
            "Epoch duration 199.3s\n",
            "Loss 0.0021 bleu1 0.9999 bleu2 0.9999 bleu3 0.9998 \n"
          ]
        },
        {
          "name": "stderr",
          "output_type": "stream",
          "text": [
            "\n"
          ]
        },
        {
          "name": "stdout",
          "output_type": "stream",
          "text": [
            "Loss 0.0153 bleu1 0.9981 bleu2 0.9969 bleu3 0.9956 \n",
            "Saved model weights to weights/1730730651/012.pt\n",
            "\n",
            "====== Epoch 13/200 ======\n"
          ]
        },
        {
          "name": "stderr",
          "output_type": "stream",
          "text": [
            "100%|██████████| 304/304 [03:18<00:00,  1.53it/s]"
          ]
        },
        {
          "name": "stdout",
          "output_type": "stream",
          "text": [
            "LR: [0.000612709757329767]\n",
            "Epoch duration 198.7s\n",
            "Loss 0.0018 bleu1 0.9999 bleu2 0.9999 bleu3 0.9998 \n"
          ]
        },
        {
          "name": "stderr",
          "output_type": "stream",
          "text": [
            "\n"
          ]
        },
        {
          "name": "stdout",
          "output_type": "stream",
          "text": [
            "Loss 0.0128 bleu1 0.9983 bleu2 0.9972 bleu3 0.9961 \n",
            "Saved model weights to weights/1730730651/013.pt\n",
            "\n",
            "====== Epoch 14/200 ======\n"
          ]
        },
        {
          "name": "stderr",
          "output_type": "stream",
          "text": [
            "100%|██████████| 304/304 [03:20<00:00,  1.52it/s]"
          ]
        },
        {
          "name": "stdout",
          "output_type": "stream",
          "text": [
            "LR: [0.0005882013670365763]\n",
            "Epoch duration 200.3s\n",
            "Loss 0.0014 bleu1 0.9999 bleu2 0.9999 bleu3 0.9999 \n"
          ]
        },
        {
          "name": "stderr",
          "output_type": "stream",
          "text": [
            "\n"
          ]
        },
        {
          "name": "stdout",
          "output_type": "stream",
          "text": [
            "Loss 0.0151 bleu1 0.9980 bleu2 0.9965 bleu3 0.9951 \n",
            "\n",
            "====== Epoch 15/200 ======\n"
          ]
        },
        {
          "name": "stderr",
          "output_type": "stream",
          "text": [
            "100%|██████████| 304/304 [03:18<00:00,  1.53it/s]"
          ]
        },
        {
          "name": "stdout",
          "output_type": "stream",
          "text": [
            "LR: [0.0005646733123551131]\n",
            "Epoch duration 198.3s\n",
            "Loss 0.0013 bleu1 0.9999 bleu2 0.9999 bleu3 0.9998 \n"
          ]
        },
        {
          "name": "stderr",
          "output_type": "stream",
          "text": [
            "\n"
          ]
        },
        {
          "name": "stdout",
          "output_type": "stream",
          "text": [
            "Loss 0.0135 bleu1 0.9983 bleu2 0.9972 bleu3 0.9960 \n",
            "\n",
            "====== Epoch 16/200 ======\n"
          ]
        },
        {
          "name": "stderr",
          "output_type": "stream",
          "text": [
            "100%|██████████| 304/304 [03:19<00:00,  1.52it/s]"
          ]
        },
        {
          "name": "stdout",
          "output_type": "stream",
          "text": [
            "LR: [0.0005420863798609086]\n",
            "Epoch duration 199.6s\n",
            "Loss 0.0012 bleu1 0.9999 bleu2 0.9998 bleu3 0.9998 \n"
          ]
        },
        {
          "name": "stderr",
          "output_type": "stream",
          "text": [
            "\n"
          ]
        },
        {
          "name": "stdout",
          "output_type": "stream",
          "text": [
            "Loss 0.0128 bleu1 0.9982 bleu2 0.9971 bleu3 0.9960 \n",
            "\n",
            "====== Epoch 17/200 ======\n"
          ]
        },
        {
          "name": "stderr",
          "output_type": "stream",
          "text": [
            "100%|██████████| 304/304 [03:19<00:00,  1.52it/s]"
          ]
        },
        {
          "name": "stdout",
          "output_type": "stream",
          "text": [
            "LR: [0.0005204029246664722]\n",
            "Epoch duration 199.3s\n",
            "Loss 0.0007 bleu1 1.0000 bleu2 1.0000 bleu3 1.0000 \n"
          ]
        },
        {
          "name": "stderr",
          "output_type": "stream",
          "text": [
            "\n"
          ]
        },
        {
          "name": "stdout",
          "output_type": "stream",
          "text": [
            "Loss 0.0122 bleu1 0.9983 bleu2 0.9973 bleu3 0.9962 \n",
            "Saved model weights to weights/1730730651/017.pt\n",
            "\n",
            "====== Epoch 18/200 ======\n"
          ]
        },
        {
          "name": "stderr",
          "output_type": "stream",
          "text": [
            "100%|██████████| 304/304 [03:20<00:00,  1.52it/s]"
          ]
        },
        {
          "name": "stdout",
          "output_type": "stream",
          "text": [
            "LR: [0.0004995868076798133]\n",
            "Epoch duration 200.6s\n",
            "Loss 0.0007 bleu1 1.0000 bleu2 1.0000 bleu3 0.9999 \n"
          ]
        },
        {
          "name": "stderr",
          "output_type": "stream",
          "text": [
            "\n"
          ]
        },
        {
          "name": "stdout",
          "output_type": "stream",
          "text": [
            "Loss 0.0132 bleu1 0.9982 bleu2 0.9971 bleu3 0.9959 \n",
            "\n",
            "====== Epoch 19/200 ======\n"
          ]
        },
        {
          "name": "stderr",
          "output_type": "stream",
          "text": [
            "100%|██████████| 304/304 [03:18<00:00,  1.53it/s]"
          ]
        },
        {
          "name": "stdout",
          "output_type": "stream",
          "text": [
            "LR: [0.0004796033353726208]\n",
            "Epoch duration 198.7s\n",
            "Loss 0.0006 bleu1 1.0000 bleu2 1.0000 bleu3 1.0000 \n"
          ]
        },
        {
          "name": "stderr",
          "output_type": "stream",
          "text": [
            "\n"
          ]
        },
        {
          "name": "stdout",
          "output_type": "stream",
          "text": [
            "Loss 0.0122 bleu1 0.9985 bleu2 0.9975 bleu3 0.9964 \n",
            "\n",
            "====== Epoch 20/200 ======\n"
          ]
        },
        {
          "name": "stderr",
          "output_type": "stream",
          "text": [
            "100%|██████████| 304/304 [03:18<00:00,  1.53it/s]"
          ]
        },
        {
          "name": "stdout",
          "output_type": "stream",
          "text": [
            "LR: [0.00046041920195771596]\n",
            "Epoch duration 198.6s\n",
            "Loss 0.0005 bleu1 1.0000 bleu2 1.0000 bleu3 1.0000 \n"
          ]
        },
        {
          "name": "stderr",
          "output_type": "stream",
          "text": [
            "\n"
          ]
        },
        {
          "name": "stdout",
          "output_type": "stream",
          "text": [
            "Loss 0.0115 bleu1 0.9987 bleu2 0.9975 bleu3 0.9965 \n",
            "Saved model weights to weights/1730730651/020.pt\n",
            "\n",
            "====== Epoch 21/200 ======\n"
          ]
        },
        {
          "name": "stderr",
          "output_type": "stream",
          "text": [
            "100%|██████████| 304/304 [03:18<00:00,  1.53it/s]"
          ]
        },
        {
          "name": "stdout",
          "output_type": "stream",
          "text": [
            "LR: [0.0004420024338794073]\n",
            "Epoch duration 198.1s\n",
            "Loss 0.0005 bleu1 1.0000 bleu2 1.0000 bleu3 0.9999 \n"
          ]
        },
        {
          "name": "stderr",
          "output_type": "stream",
          "text": [
            "\n"
          ]
        },
        {
          "name": "stdout",
          "output_type": "stream",
          "text": [
            "Loss 0.0135 bleu1 0.9984 bleu2 0.9973 bleu3 0.9961 \n",
            "\n",
            "====== Epoch 22/200 ======\n"
          ]
        },
        {
          "name": "stderr",
          "output_type": "stream",
          "text": [
            "100%|██████████| 304/304 [03:20<00:00,  1.52it/s]"
          ]
        },
        {
          "name": "stdout",
          "output_type": "stream",
          "text": [
            "LR: [0.00042432233652423104]\n",
            "Epoch duration 200.6s\n",
            "Loss 0.0006 bleu1 1.0000 bleu2 1.0000 bleu3 0.9999 \n"
          ]
        },
        {
          "name": "stderr",
          "output_type": "stream",
          "text": [
            "\n"
          ]
        },
        {
          "name": "stdout",
          "output_type": "stream",
          "text": [
            "Loss 0.0112 bleu1 0.9986 bleu2 0.9976 bleu3 0.9966 \n",
            "Saved model weights to weights/1730730651/022.pt\n",
            "\n",
            "====== Epoch 23/200 ======\n"
          ]
        },
        {
          "name": "stderr",
          "output_type": "stream",
          "text": [
            "100%|██████████| 304/304 [03:18<00:00,  1.53it/s]"
          ]
        },
        {
          "name": "stdout",
          "output_type": "stream",
          "text": [
            "LR: [0.0004073494430632618]\n",
            "Epoch duration 198.3s\n",
            "Loss 0.0003 bleu1 1.0000 bleu2 1.0000 bleu3 1.0000 \n"
          ]
        },
        {
          "name": "stderr",
          "output_type": "stream",
          "text": [
            "\n"
          ]
        },
        {
          "name": "stdout",
          "output_type": "stream",
          "text": [
            "Loss 0.0106 bleu1 0.9986 bleu2 0.9978 bleu3 0.9969 \n",
            "Saved model weights to weights/1730730651/023.pt\n",
            "\n",
            "====== Epoch 24/200 ======\n"
          ]
        },
        {
          "name": "stderr",
          "output_type": "stream",
          "text": [
            "100%|██████████| 304/304 [03:19<00:00,  1.52it/s]"
          ]
        },
        {
          "name": "stdout",
          "output_type": "stream",
          "text": [
            "LR: [0.0003910554653407313]\n",
            "Epoch duration 199.9s\n",
            "Loss 0.0003 bleu1 1.0000 bleu2 1.0000 bleu3 1.0000 \n"
          ]
        },
        {
          "name": "stderr",
          "output_type": "stream",
          "text": [
            "\n"
          ]
        },
        {
          "name": "stdout",
          "output_type": "stream",
          "text": [
            "Loss 0.0099 bleu1 0.9988 bleu2 0.9979 bleu3 0.9970 \n",
            "Saved model weights to weights/1730730651/024.pt\n",
            "\n",
            "====== Epoch 25/200 ======\n"
          ]
        },
        {
          "name": "stderr",
          "output_type": "stream",
          "text": [
            "100%|██████████| 304/304 [03:18<00:00,  1.53it/s]"
          ]
        },
        {
          "name": "stdout",
          "output_type": "stream",
          "text": [
            "LR: [0.000375413246727102]\n",
            "Epoch duration 198.6s\n",
            "Loss 0.0003 bleu1 1.0000 bleu2 1.0000 bleu3 1.0000 \n"
          ]
        },
        {
          "name": "stderr",
          "output_type": "stream",
          "text": [
            "\n"
          ]
        },
        {
          "name": "stdout",
          "output_type": "stream",
          "text": [
            "Loss 0.0112 bleu1 0.9984 bleu2 0.9975 bleu3 0.9966 \n",
            "\n",
            "====== Epoch 26/200 ======\n"
          ]
        },
        {
          "name": "stderr",
          "output_type": "stream",
          "text": [
            "100%|██████████| 304/304 [03:19<00:00,  1.53it/s]"
          ]
        },
        {
          "name": "stdout",
          "output_type": "stream",
          "text": [
            "LR: [0.00036039671685801796]\n",
            "Epoch duration 199.2s\n",
            "Loss 0.0002 bleu1 1.0000 bleu2 1.0000 bleu3 1.0000 \n"
          ]
        },
        {
          "name": "stderr",
          "output_type": "stream",
          "text": [
            "\n"
          ]
        },
        {
          "name": "stdout",
          "output_type": "stream",
          "text": [
            "Loss 0.0097 bleu1 0.9987 bleu2 0.9980 bleu3 0.9972 \n",
            "Saved model weights to weights/1730730651/026.pt\n",
            "\n",
            "====== Epoch 27/200 ======\n"
          ]
        },
        {
          "name": "stderr",
          "output_type": "stream",
          "text": [
            "100%|██████████| 304/304 [03:18<00:00,  1.53it/s]"
          ]
        },
        {
          "name": "stdout",
          "output_type": "stream",
          "text": [
            "LR: [0.00034598084818369723]\n",
            "Epoch duration 198.9s\n",
            "Loss 0.0004 bleu1 1.0000 bleu2 1.0000 bleu3 0.9999 \n"
          ]
        },
        {
          "name": "stderr",
          "output_type": "stream",
          "text": [
            "\n"
          ]
        },
        {
          "name": "stdout",
          "output_type": "stream",
          "text": [
            "Loss 0.0098 bleu1 0.9987 bleu2 0.9980 bleu3 0.9971 \n",
            "\n",
            "====== Epoch 28/200 ======\n"
          ]
        },
        {
          "name": "stderr",
          "output_type": "stream",
          "text": [
            "100%|██████████| 304/304 [03:17<00:00,  1.54it/s]"
          ]
        },
        {
          "name": "stdout",
          "output_type": "stream",
          "text": [
            "LR: [0.00033214161425634933]\n",
            "Epoch duration 197.6s\n",
            "Loss 0.0002 bleu1 1.0000 bleu2 1.0000 bleu3 1.0000 \n"
          ]
        },
        {
          "name": "stderr",
          "output_type": "stream",
          "text": [
            "\n"
          ]
        },
        {
          "name": "stdout",
          "output_type": "stream",
          "text": [
            "Loss 0.0106 bleu1 0.9986 bleu2 0.9977 bleu3 0.9968 \n",
            "\n",
            "====== Epoch 29/200 ======\n"
          ]
        },
        {
          "name": "stderr",
          "output_type": "stream",
          "text": [
            "100%|██████████| 304/304 [03:19<00:00,  1.52it/s]"
          ]
        },
        {
          "name": "stdout",
          "output_type": "stream",
          "text": [
            "LR: [0.00031885594968609533]\n",
            "Epoch duration 199.8s\n",
            "Loss 0.0002 bleu1 1.0000 bleu2 1.0000 bleu3 1.0000 \n"
          ]
        },
        {
          "name": "stderr",
          "output_type": "stream",
          "text": [
            "\n"
          ]
        },
        {
          "name": "stdout",
          "output_type": "stream",
          "text": [
            "Loss 0.0093 bleu1 0.9987 bleu2 0.9979 bleu3 0.9971 \n",
            "Saved model weights to weights/1730730651/029.pt\n",
            "\n",
            "====== Epoch 30/200 ======\n"
          ]
        },
        {
          "name": "stderr",
          "output_type": "stream",
          "text": [
            "100%|██████████| 304/304 [03:19<00:00,  1.52it/s]"
          ]
        },
        {
          "name": "stdout",
          "output_type": "stream",
          "text": [
            "LR: [0.0003061017116986515]\n",
            "Epoch duration 199.4s\n",
            "Loss 0.0002 bleu1 1.0000 bleu2 1.0000 bleu3 1.0000 \n"
          ]
        },
        {
          "name": "stderr",
          "output_type": "stream",
          "text": [
            "\n"
          ]
        },
        {
          "name": "stdout",
          "output_type": "stream",
          "text": [
            "Loss 0.0086 bleu1 0.9988 bleu2 0.9981 bleu3 0.9973 \n",
            "Saved model weights to weights/1730730651/030.pt\n",
            "\n",
            "====== Epoch 31/200 ======\n"
          ]
        },
        {
          "name": "stderr",
          "output_type": "stream",
          "text": [
            "100%|██████████| 304/304 [03:19<00:00,  1.52it/s]"
          ]
        },
        {
          "name": "stdout",
          "output_type": "stream",
          "text": [
            "LR: [0.0002938576432307054]\n",
            "Epoch duration 199.8s\n",
            "Loss 0.0002 bleu1 1.0000 bleu2 1.0000 bleu3 1.0000 \n"
          ]
        },
        {
          "name": "stderr",
          "output_type": "stream",
          "text": [
            "\n"
          ]
        },
        {
          "name": "stdout",
          "output_type": "stream",
          "text": [
            "Loss 0.0098 bleu1 0.9987 bleu2 0.9978 bleu3 0.9969 \n",
            "\n",
            "====== Epoch 32/200 ======\n"
          ]
        },
        {
          "name": "stderr",
          "output_type": "stream",
          "text": [
            "100%|██████████| 304/304 [03:19<00:00,  1.53it/s]"
          ]
        },
        {
          "name": "stdout",
          "output_type": "stream",
          "text": [
            "LR: [0.0002821033375014772]\n",
            "Epoch duration 199.0s\n",
            "Loss 0.0001 bleu1 1.0000 bleu2 1.0000 bleu3 1.0000 \n"
          ]
        },
        {
          "name": "stderr",
          "output_type": "stream",
          "text": [
            "\n"
          ]
        },
        {
          "name": "stdout",
          "output_type": "stream",
          "text": [
            "Loss 0.0111 bleu1 0.9985 bleu2 0.9976 bleu3 0.9966 \n",
            "\n",
            "====== Epoch 33/200 ======\n"
          ]
        },
        {
          "name": "stderr",
          "output_type": "stream",
          "text": [
            "100%|██████████| 304/304 [03:20<00:00,  1.52it/s]"
          ]
        },
        {
          "name": "stdout",
          "output_type": "stream",
          "text": [
            "LR: [0.0002708192040014181]\n",
            "Epoch duration 200.3s\n",
            "Loss 0.0001 bleu1 1.0000 bleu2 1.0000 bleu3 1.0000 \n"
          ]
        },
        {
          "name": "stderr",
          "output_type": "stream",
          "text": [
            "\n"
          ]
        },
        {
          "name": "stdout",
          "output_type": "stream",
          "text": [
            "Loss 0.0099 bleu1 0.9987 bleu2 0.9978 bleu3 0.9969 \n",
            "\n",
            "====== Epoch 34/200 ======\n"
          ]
        },
        {
          "name": "stderr",
          "output_type": "stream",
          "text": [
            "100%|██████████| 304/304 [03:20<00:00,  1.52it/s]"
          ]
        },
        {
          "name": "stdout",
          "output_type": "stream",
          "text": [
            "LR: [0.00025998643584136135]\n",
            "Epoch duration 200.1s\n",
            "Loss 0.0001 bleu1 1.0000 bleu2 1.0000 bleu3 1.0000 \n"
          ]
        },
        {
          "name": "stderr",
          "output_type": "stream",
          "text": [
            "\n"
          ]
        },
        {
          "name": "stdout",
          "output_type": "stream",
          "text": [
            "Loss 0.0102 bleu1 0.9987 bleu2 0.9978 bleu3 0.9969 \n",
            "\n",
            "====== Epoch 35/200 ======\n"
          ]
        },
        {
          "name": "stderr",
          "output_type": "stream",
          "text": [
            "100%|██████████| 304/304 [03:19<00:00,  1.53it/s]"
          ]
        },
        {
          "name": "stdout",
          "output_type": "stream",
          "text": [
            "LR: [0.0002495869784077069]\n",
            "Epoch duration 199.1s\n",
            "Loss 0.0001 bleu1 1.0000 bleu2 1.0000 bleu3 1.0000 \n"
          ]
        },
        {
          "name": "stderr",
          "output_type": "stream",
          "text": [
            "\n"
          ]
        },
        {
          "name": "stdout",
          "output_type": "stream",
          "text": [
            "Loss 0.0087 bleu1 0.9988 bleu2 0.9981 bleu3 0.9974 \n",
            "\n",
            "====== Epoch 36/200 ======\n"
          ]
        },
        {
          "name": "stderr",
          "output_type": "stream",
          "text": [
            "100%|██████████| 304/304 [03:18<00:00,  1.53it/s]"
          ]
        },
        {
          "name": "stdout",
          "output_type": "stream",
          "text": [
            "LR: [0.0002396034992713986]\n",
            "Epoch duration 198.1s\n",
            "Loss 0.0001 bleu1 1.0000 bleu2 1.0000 bleu3 1.0000 \n"
          ]
        },
        {
          "name": "stderr",
          "output_type": "stream",
          "text": [
            "\n"
          ]
        },
        {
          "name": "stdout",
          "output_type": "stream",
          "text": [
            "Loss 0.0118 bleu1 0.9986 bleu2 0.9975 bleu3 0.9964 \n",
            "\n",
            "====== Epoch 37/200 ======\n"
          ]
        },
        {
          "name": "stderr",
          "output_type": "stream",
          "text": [
            "100%|██████████| 304/304 [03:19<00:00,  1.52it/s]"
          ]
        },
        {
          "name": "stdout",
          "output_type": "stream",
          "text": [
            "LR: [0.00023001935930054264]\n",
            "Epoch duration 199.7s\n",
            "Loss 0.0001 bleu1 1.0000 bleu2 1.0000 bleu3 1.0000 \n"
          ]
        },
        {
          "name": "stderr",
          "output_type": "stream",
          "text": [
            "\n"
          ]
        },
        {
          "name": "stdout",
          "output_type": "stream",
          "text": [
            "Loss 0.0112 bleu1 0.9987 bleu2 0.9977 bleu3 0.9968 \n",
            "\n",
            "====== Epoch 38/200 ======\n"
          ]
        },
        {
          "name": "stderr",
          "output_type": "stream",
          "text": [
            "100%|██████████| 304/304 [03:18<00:00,  1.53it/s]"
          ]
        },
        {
          "name": "stdout",
          "output_type": "stream",
          "text": [
            "LR: [0.00022081858492852091]\n",
            "Epoch duration 198.3s\n",
            "Loss 0.0000 bleu1 1.0000 bleu2 1.0000 bleu3 1.0000 \n"
          ]
        },
        {
          "name": "stderr",
          "output_type": "stream",
          "text": [
            "\n"
          ]
        },
        {
          "name": "stdout",
          "output_type": "stream",
          "text": [
            "Loss 0.0105 bleu1 0.9986 bleu2 0.9977 bleu3 0.9968 \n",
            "\n",
            "====== Epoch 39/200 ======\n"
          ]
        },
        {
          "name": "stderr",
          "output_type": "stream",
          "text": [
            "100%|██████████| 304/304 [03:19<00:00,  1.52it/s]"
          ]
        },
        {
          "name": "stdout",
          "output_type": "stream",
          "text": [
            "LR: [0.00021198584153138007]\n",
            "Epoch duration 199.5s\n",
            "Loss 0.0001 bleu1 1.0000 bleu2 1.0000 bleu3 1.0000 \n"
          ]
        },
        {
          "name": "stderr",
          "output_type": "stream",
          "text": [
            "\n"
          ]
        },
        {
          "name": "stdout",
          "output_type": "stream",
          "text": [
            "Loss 0.0079 bleu1 0.9990 bleu2 0.9982 bleu3 0.9975 \n",
            "Saved model weights to weights/1730730651/039.pt\n",
            "\n",
            "====== Epoch 40/200 ======\n"
          ]
        },
        {
          "name": "stderr",
          "output_type": "stream",
          "text": [
            "100%|██████████| 304/304 [03:18<00:00,  1.53it/s]"
          ]
        },
        {
          "name": "stdout",
          "output_type": "stream",
          "text": [
            "LR: [0.00020350640787012485]\n",
            "Epoch duration 198.3s\n",
            "Loss 0.0000 bleu1 1.0000 bleu2 1.0000 bleu3 1.0000 \n"
          ]
        },
        {
          "name": "stderr",
          "output_type": "stream",
          "text": [
            "\n"
          ]
        },
        {
          "name": "stdout",
          "output_type": "stream",
          "text": [
            "Loss 0.0112 bleu1 0.9985 bleu2 0.9975 bleu3 0.9964 \n",
            "\n",
            "====== Epoch 41/200 ======\n"
          ]
        },
        {
          "name": "stderr",
          "output_type": "stream",
          "text": [
            "100%|██████████| 304/304 [03:19<00:00,  1.52it/s]"
          ]
        },
        {
          "name": "stdout",
          "output_type": "stream",
          "text": [
            "LR: [0.00019536615155531985]\n",
            "Epoch duration 200.0s\n",
            "Loss 0.0001 bleu1 1.0000 bleu2 1.0000 bleu3 1.0000 \n"
          ]
        },
        {
          "name": "stderr",
          "output_type": "stream",
          "text": [
            "\n"
          ]
        },
        {
          "name": "stdout",
          "output_type": "stream",
          "text": [
            "Loss 0.0095 bleu1 0.9988 bleu2 0.9980 bleu3 0.9971 \n",
            "\n",
            "====== Epoch 42/200 ======\n"
          ]
        },
        {
          "name": "stderr",
          "output_type": "stream",
          "text": [
            "100%|██████████| 304/304 [03:19<00:00,  1.52it/s]"
          ]
        },
        {
          "name": "stdout",
          "output_type": "stream",
          "text": [
            "LR: [0.00018755150549310706]\n",
            "Epoch duration 199.4s\n",
            "Loss 0.0001 bleu1 1.0000 bleu2 1.0000 bleu3 1.0000 \n"
          ]
        },
        {
          "name": "stderr",
          "output_type": "stream",
          "text": [
            "\n"
          ]
        },
        {
          "name": "stdout",
          "output_type": "stream",
          "text": [
            "Loss 0.0079 bleu1 0.9989 bleu2 0.9982 bleu3 0.9975 \n",
            "\n",
            "====== Epoch 43/200 ======\n"
          ]
        },
        {
          "name": "stderr",
          "output_type": "stream",
          "text": [
            "100%|██████████| 304/304 [03:19<00:00,  1.52it/s]"
          ]
        },
        {
          "name": "stdout",
          "output_type": "stream",
          "text": [
            "LR: [0.00018004944527338278]\n",
            "Epoch duration 200.0s\n",
            "Loss 0.0001 bleu1 1.0000 bleu2 1.0000 bleu3 1.0000 \n"
          ]
        },
        {
          "name": "stderr",
          "output_type": "stream",
          "text": [
            "\n"
          ]
        },
        {
          "name": "stdout",
          "output_type": "stream",
          "text": [
            "Loss 0.0097 bleu1 0.9987 bleu2 0.9978 bleu3 0.9969 \n",
            "\n",
            "====== Epoch 44/200 ======\n"
          ]
        },
        {
          "name": "stderr",
          "output_type": "stream",
          "text": [
            "100%|██████████| 304/304 [03:19<00:00,  1.52it/s]"
          ]
        },
        {
          "name": "stdout",
          "output_type": "stream",
          "text": [
            "LR: [0.00017284746746244745]\n",
            "Epoch duration 199.9s\n",
            "Loss 0.0000 bleu1 1.0000 bleu2 1.0000 bleu3 1.0000 \n"
          ]
        },
        {
          "name": "stderr",
          "output_type": "stream",
          "text": [
            "\n"
          ]
        },
        {
          "name": "stdout",
          "output_type": "stream",
          "text": [
            "Loss 0.0083 bleu1 0.9990 bleu2 0.9983 bleu3 0.9975 \n",
            "\n",
            "====== Epoch 45/200 ======\n"
          ]
        },
        {
          "name": "stderr",
          "output_type": "stream",
          "text": [
            "100%|██████████| 304/304 [03:19<00:00,  1.52it/s]"
          ]
        },
        {
          "name": "stdout",
          "output_type": "stream",
          "text": [
            "LR: [0.00016593356876394954]\n",
            "Epoch duration 199.4s\n",
            "Loss 0.0001 bleu1 1.0000 bleu2 1.0000 bleu3 1.0000 \n"
          ]
        },
        {
          "name": "stderr",
          "output_type": "stream",
          "text": [
            "\n"
          ]
        },
        {
          "name": "stdout",
          "output_type": "stream",
          "text": [
            "Loss 0.0105 bleu1 0.9986 bleu2 0.9976 bleu3 0.9967 \n",
            "\n",
            "====== Epoch 46/200 ======\n"
          ]
        },
        {
          "name": "stderr",
          "output_type": "stream",
          "text": [
            "100%|██████████| 304/304 [03:19<00:00,  1.52it/s]"
          ]
        },
        {
          "name": "stdout",
          "output_type": "stream",
          "text": [
            "LR: [0.00015929622601339156]\n",
            "Epoch duration 199.9s\n",
            "Loss 0.0001 bleu1 1.0000 bleu2 1.0000 bleu3 1.0000 \n"
          ]
        },
        {
          "name": "stderr",
          "output_type": "stream",
          "text": [
            "\n"
          ]
        },
        {
          "name": "stdout",
          "output_type": "stream",
          "text": [
            "Loss 0.0088 bleu1 0.9989 bleu2 0.9981 bleu3 0.9974 \n",
            "\n",
            "====== Epoch 47/200 ======\n"
          ]
        },
        {
          "name": "stderr",
          "output_type": "stream",
          "text": [
            "100%|██████████| 304/304 [03:19<00:00,  1.52it/s]"
          ]
        },
        {
          "name": "stdout",
          "output_type": "stream",
          "text": [
            "LR: [0.0001529243769728559]\n",
            "Epoch duration 199.4s\n",
            "Loss 0.0000 bleu1 1.0000 bleu2 1.0000 bleu3 1.0000 \n"
          ]
        },
        {
          "name": "stderr",
          "output_type": "stream",
          "text": [
            "\n"
          ]
        },
        {
          "name": "stdout",
          "output_type": "stream",
          "text": [
            "Loss 0.0093 bleu1 0.9988 bleu2 0.9980 bleu3 0.9972 \n",
            "\n",
            "====== Epoch 48/200 ======\n"
          ]
        },
        {
          "name": "stderr",
          "output_type": "stream",
          "text": [
            "100%|██████████| 304/304 [03:19<00:00,  1.52it/s]"
          ]
        },
        {
          "name": "stdout",
          "output_type": "stream",
          "text": [
            "LR: [0.00014680740189394165]\n",
            "Epoch duration 199.9s\n",
            "Loss 0.0000 bleu1 1.0000 bleu2 1.0000 bleu3 1.0000 \n"
          ]
        },
        {
          "name": "stderr",
          "output_type": "stream",
          "text": [
            "\n"
          ]
        },
        {
          "name": "stdout",
          "output_type": "stream",
          "text": [
            "Loss 0.0111 bleu1 0.9986 bleu2 0.9977 bleu3 0.9967 \n",
            "\n",
            "====== Epoch 49/200 ======\n"
          ]
        },
        {
          "name": "stderr",
          "output_type": "stream",
          "text": [
            "100%|██████████| 304/304 [03:17<00:00,  1.54it/s]"
          ]
        },
        {
          "name": "stdout",
          "output_type": "stream",
          "text": [
            "LR: [0.000140935105818184]\n",
            "Epoch duration 197.7s\n",
            "Loss 0.0000 bleu1 1.0000 bleu2 1.0000 bleu3 1.0000 \n"
          ]
        },
        {
          "name": "stderr",
          "output_type": "stream",
          "text": [
            "\n"
          ]
        },
        {
          "name": "stdout",
          "output_type": "stream",
          "text": [
            "Loss 0.0105 bleu1 0.9986 bleu2 0.9978 bleu3 0.9969 \n",
            "Early stop.\n",
            "Average epoch duration: 200.57s\n"
          ]
        },
        {
          "data": {
            "image/png": "[encoded data removed]",
            "text/plain": [
              "<Figure size 640x480 with 1 Axes>"
            ]
          },
          "metadata": {},
          "output_type": "display_data"
        },
        {
          "data": {
            "image/png": "[encoded data removed]",
            "text/plain": [
              "<Figure size 640x480 with 1 Axes>"
            ]
          },
          "metadata": {},
          "output_type": "display_data"
        }
      ],
      "source": [
        "import torch.optim as optim\n",
        "from torch import Tensor\n",
        "\n",
        "\n",
        "class MetricHistory:\n",
        "    def __init__(self, name=\"loss\", split=\"train\"):\n",
        "        self.name = name\n",
        "        self.split = split\n",
        "        assert split in [\"train\", \"val\", \"test\"]\n",
        "        self.history: List[float] = []\n",
        "        self.current_value = 0\n",
        "        self.batch_count = 0\n",
        "\n",
        "    @property\n",
        "    def full_name(self):\n",
        "        return f\"[{self.split}] {self.name}\"\n",
        "\n",
        "    def record_batch_value(self, tensor: Tensor):\n",
        "        \"\"\"Record the loss value for a single batch.\"\"\"\n",
        "\n",
        "        self.current_value += tensor.item()\n",
        "        self.batch_count += 1\n",
        "\n",
        "    def end_epoch(self, with_print: bool = True):\n",
        "        \"\"\"\n",
        "        Finalize an epoch, i.e. compute and store the loss value for that epoch.\n",
        "        \"\"\"\n",
        "        value = self.current_value / self.batch_count\n",
        "        self.history.append(value)\n",
        "        self.current_value = 0\n",
        "        self.batch_count = 0\n",
        "\n",
        "        if with_print:\n",
        "            print(f\"{self.name} {value:.4f}\", end=\" \")\n",
        "\n",
        "    def get_last_value(self) -> float:\n",
        "        \"\"\"Return the last value stored in the loss history.\"\"\"\n",
        "        return self.history[-1]\n",
        "\n",
        "\n",
        "def plot_histories(\n",
        "    histories: List[MetricHistory], filename: str, folder: str = PLOTS_ROOT_PATH\n",
        "):\n",
        "    os.makedirs(folder, exist_ok=True)\n",
        "    for h in histories:\n",
        "        data = np.array(h.history)\n",
        "        plt.plot(range(len(data)), data, label=h.full_name)\n",
        "\n",
        "    plt.ylim(bottom=0)\n",
        "    plt.legend()\n",
        "    plt.grid()\n",
        "    plt.savefig(os.path.join(folder, filename), dpi=200, bbox_inches=\"tight\")\n",
        "    plt.show()\n",
        "\n",
        "\n",
        "def non_pad_length(padded_caption):\n",
        "    i = len(padded_caption) - 1\n",
        "    while padded_caption[i] == 0:\n",
        "        i -= 1\n",
        "\n",
        "    return i + 1\n",
        "\n",
        "\n",
        "def bleu(hyp, ref, n):\n",
        "    return torch.tensor(torchtext.data.metrics.bleu_score(hyp, ref, n, [1 / n] * n))\n",
        "\n",
        "\n",
        "def int_caption_to_str(caption):\n",
        "    return list(map(lambda x: VOCAB.get_itos()[x], caption))\n",
        "\n",
        "\n",
        "def forward_batch(\n",
        "    model: ImageCaptioningModel, images: Tensor, captions: Tensor, all_captions, loss_fn\n",
        "):\n",
        "    preds: Tensor\n",
        "    preds, _ = model.forward_with_gt(images, captions)\n",
        "\n",
        "    preds_reshaped = preds.view(-1, preds.shape[-1]).float()\n",
        "    captions_reshaped = captions.view(-1).long()\n",
        "\n",
        "    loss = loss_fn(preds_reshaped, captions_reshaped)\n",
        "\n",
        "    _, max_indices = torch.max(preds, dim=2)  # Greedy predictions\n",
        "\n",
        "    hypotheses = []\n",
        "    for gt_caption, pred_caption in zip(captions, max_indices):\n",
        "        gt_length = non_pad_length(gt_caption)\n",
        "        caption = int_caption_to_str(pred_caption[:gt_length])\n",
        "        hypotheses.append(caption)\n",
        "\n",
        "    references = []\n",
        "    for gt_captions in all_captions:\n",
        "        captions = list(map(int_caption_to_str, gt_captions))\n",
        "        references.append(captions)\n",
        "\n",
        "    # print(\"====================== BATCH =========================\")\n",
        "    # print(hypotheses)\n",
        "    # print(references)\n",
        "\n",
        "    bleu_1 = bleu(hypotheses, references, 1)\n",
        "    bleu_2 = bleu(hypotheses, references, 2)\n",
        "    bleu_3 = bleu(hypotheses, references, 3)\n",
        "\n",
        "    return [loss], [bleu_1, bleu_2, bleu_3]\n",
        "\n",
        "\n",
        "def train_model(\n",
        "    model: ImageCaptioningModel,\n",
        "    train_loader: DataLoader,\n",
        "    val_loader: DataLoader,\n",
        "    optimizer,\n",
        "    scheduler: optim.lr_scheduler.LRScheduler,\n",
        "    loss_fn,\n",
        "    num_epochs,\n",
        "    early_stopping_threshold,\n",
        "):\n",
        "\n",
        "    best_loss = float(\"inf\")\n",
        "    epochs_since_loss_decrease = 0\n",
        "    epoch_durations = []\n",
        "\n",
        "    loss_names = [\"Loss\"]\n",
        "    train_losses = [MetricHistory(name, split=\"train\") for name in loss_names]\n",
        "    val_losses = [MetricHistory(name, split=\"val\") for name in loss_names]\n",
        "\n",
        "    metric_names = [\"bleu1\", \"bleu2\", \"bleu3\"]\n",
        "    train_metrics = [MetricHistory(name, split=\"train\") for name in metric_names]\n",
        "    val_metrics = [MetricHistory(name, split=\"val\") for name in metric_names]\n",
        "\n",
        "    for epoch in range(1, num_epochs + 1):\n",
        "        print(f\"\\n{s} Epoch {epoch}/{num_epochs} {s}\")\n",
        "        epoch_start_time = time.time()\n",
        "\n",
        "        # Training phase\n",
        "        model.train(mode=True)\n",
        "        for images, captions, all_captions in tqdm(train_loader):\n",
        "            # zero the parameter gradients for each batch\n",
        "            optimizer.zero_grad()\n",
        "\n",
        "            losses, metrics = forward_batch(\n",
        "                model, images.to(device), captions.to(device), all_captions, loss_fn\n",
        "            )\n",
        "\n",
        "            for loss_hist, loss in zip(train_losses, losses):\n",
        "                loss_hist.record_batch_value(loss)\n",
        "\n",
        "            for metric_hist, metric in zip(train_metrics, metrics):\n",
        "                metric_hist.record_batch_value(metric)\n",
        "\n",
        "            # propagate loss\n",
        "            losses[0].backward()\n",
        "\n",
        "            # optimize\n",
        "            optimizer.step()\n",
        "\n",
        "            del losses\n",
        "            del metrics\n",
        "\n",
        "        print(f\"LR: {scheduler.get_last_lr()}\")\n",
        "        scheduler.step()\n",
        "\n",
        "        epoch_duration = time.time() - epoch_start_time\n",
        "        print(f\"Epoch duration {epoch_duration:.1f}s\")\n",
        "        epoch_durations.append(epoch_duration)\n",
        "\n",
        "        for loss in train_losses:\n",
        "            loss.end_epoch()\n",
        "\n",
        "        for metric in train_metrics:\n",
        "            metric.end_epoch()\n",
        "\n",
        "        print()\n",
        "\n",
        "        model.record_epoch()\n",
        "\n",
        "        # Validation phase\n",
        "        model.train(mode=False)\n",
        "        with torch.no_grad():\n",
        "            for images, captions, all_captions in val_loader:\n",
        "                losses, metrics = forward_batch(\n",
        "                    model, images.to(device), captions.to(device), all_captions, loss_fn\n",
        "                )\n",
        "\n",
        "                for loss_hist, loss in zip(val_losses, losses):\n",
        "                    loss_hist.record_batch_value(loss)\n",
        "\n",
        "                for metric_hist, metric in zip(val_metrics, metrics):\n",
        "                    metric_hist.record_batch_value(metric)\n",
        "\n",
        "                del losses\n",
        "                del metrics\n",
        "\n",
        "        for loss in val_losses:\n",
        "            loss.end_epoch()\n",
        "\n",
        "        for metric in val_metrics:\n",
        "            metric.end_epoch()\n",
        "\n",
        "        print()\n",
        "\n",
        "        last_loss = val_losses[0].get_last_value()\n",
        "        if last_loss < best_loss * 0.99:\n",
        "            model.save_checkpoint()\n",
        "            best_loss = last_loss\n",
        "            epochs_since_loss_decrease = 0\n",
        "        else:\n",
        "            epochs_since_loss_decrease += 1\n",
        "\n",
        "        if epochs_since_loss_decrease >= early_stopping_threshold:\n",
        "            print(\"Early stop.\")\n",
        "            break\n",
        "\n",
        "    print(f\"Average epoch duration: {np.mean(epoch_durations):.2f}s\")\n",
        "    plot_name = f\"{model.id}_{model.trained_epochs}\"\n",
        "    losses = train_losses + val_losses\n",
        "    plot_histories(losses, f\"{plot_name}_losses.png\")\n",
        "\n",
        "    metrics = train_metrics + val_metrics\n",
        "    plot_histories(metrics, f\"{plot_name}_metrics.png\")\n",
        "    return losses, metrics\n",
        "\n",
        "\n",
        "EMBEDDING_SIZE = 1024\n",
        "ATTENTION_DIM = 256\n",
        "DECODER_DIM = 256\n",
        "DROPOUT = 0.1\n",
        "\n",
        "model = ImageCaptioningModel(\n",
        "    EMBEDDING_SIZE, len(VOCAB.get_itos()), ATTENTION_DIM, DECODER_DIM, DROPOUT\n",
        ")\n",
        "model.to(device)\n",
        "\n",
        "LOSS_FN = nn.CrossEntropyLoss()\n",
        "optimizer = optim.Adam(model.parameters(), lr=1e-3)\n",
        "scheduler = optim.lr_scheduler.ExponentialLR(optimizer, gamma=0.96)\n",
        "\n",
        "losses, metrics = train_model(\n",
        "    model,\n",
        "    train_loader,\n",
        "    val_loader,\n",
        "    optimizer=optimizer,\n",
        "    scheduler=scheduler,\n",
        "    loss_fn=LOSS_FN,\n",
        "    num_epochs=200,\n",
        "    early_stopping_threshold=10,\n",
        ")"
      ]
    },
    {
      "cell_type": "markdown",
      "metadata": {
        "id": "LqQTEAZeSP29"
      },
      "source": [
        "Visualize the attention weigths in order to understand how your model learned (**Failure to do this, will result in losing points**).\n",
        "For that, use the 'context' variable returned by the Attention class to overlay them on the image.\n"
      ]
    },
    {
      "cell_type": "code",
      "execution_count": 10,
      "metadata": {
        "colab": {
          "base_uri": "https://localhost:8080/",
          "height": 1000
        },
        "id": "goQTh88QyGrv",
        "outputId": "6417e569-a7ee-47af-cbcd-0bca3d2c377b"
      },
      "outputs": [],
      "source": [
        "# ADD YOUR CODE HERE"
      ]
    },
    {
      "cell_type": "markdown",
      "metadata": {
        "id": "Uz8-Tr8KXEH8"
      },
      "source": [
        "### 2.3. Evaluation on test set\n",
        "\n",
        "Evaluate your trained model on the test set. Use the BLEU score as your metric: torchtext.data.metrics.bleu_score(...)\n",
        "\n",
        "You may try **BLEU-1, 2** and **3**.\n"
      ]
    },
    {
      "cell_type": "code",
      "execution_count": 11,
      "metadata": {
        "id": "d71K_sbpYcCB"
      },
      "outputs": [],
      "source": [
        "# ADD YOUR CODE HERE"
      ]
    },
    {
      "cell_type": "markdown",
      "metadata": {
        "id": "wJqvIGCKYrz9"
      },
      "source": [
        "### 2.4. Load an existing Image Captioning model\n",
        "\n",
        "Feel free to choose any pre-trained image captioning model. For simplicity, try choosing a model already trained on Flickr8k.\n"
      ]
    },
    {
      "cell_type": "code",
      "execution_count": 12,
      "metadata": {
        "id": "E9QXS8p2Y5Ua"
      },
      "outputs": [],
      "source": [
        "# ADD YOUR CODE HERE"
      ]
    },
    {
      "cell_type": "markdown",
      "metadata": {
        "id": "4_UJklMFY7vV"
      },
      "source": [
        "### 2.5 Evaluate the chosen pre-trained captioning model on the test set\n",
        "\n",
        "Use the same metrics chosen on step **2.3**.\n"
      ]
    },
    {
      "cell_type": "code",
      "execution_count": 13,
      "metadata": {
        "id": "J9XPhfPMZJvV"
      },
      "outputs": [],
      "source": [
        "# ADD YOUR CODE HERE"
      ]
    },
    {
      "cell_type": "markdown",
      "metadata": {
        "id": "gcG6ZkUIZKVb"
      },
      "source": [
        "# 3. COMPARISON\n",
        "\n",
        "Compare the performance of the two models using **BLEU-1, 2** and **3**. Show some visualizations of predictions from both models. Justify their differences. How would you improve your own custom model?\n"
      ]
    },
    {
      "cell_type": "code",
      "execution_count": 14,
      "metadata": {
        "id": "4P7A06srZNnF"
      },
      "outputs": [],
      "source": [
        "# ADD YOUR CODE HERE"
      ]
    }
  ],
  "metadata": {
    "accelerator": "GPU",
    "colab": {
      "gpuType": "T4",
      "provenance": []
    },
    "kernelspec": {
      "display_name": "venv",
      "language": "python",
      "name": "python3"
    },
    "language_info": {
      "codemirror_mode": {
        "name": "ipython",
        "version": 3
      },
      "file_extension": ".py",
      "mimetype": "text/x-python",
      "name": "python",
      "nbconvert_exporter": "python",
      "pygments_lexer": "ipython3",
      "version": "3.11.10"
    }
  },
  "nbformat": 4,
  "nbformat_minor": 0
}
